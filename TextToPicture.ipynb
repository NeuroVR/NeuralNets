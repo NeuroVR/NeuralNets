{
 "cells": [
  {
   "cell_type": "code",
   "execution_count": 1,
   "metadata": {},
   "outputs": [],
   "source": [
    "from PIL import Image\n",
    "from PIL import ImageDraw\n",
    "from PIL import ImageFont"
   ]
  },
  {
   "cell_type": "code",
   "execution_count": 2,
   "metadata": {},
   "outputs": [],
   "source": [
    "def draw_with_outline(text, font, draw, imgWidth, height_image, y_param):\n",
    "    w, h = draw.textsize(text, font=font)\n",
    "        \n",
    "    x = (imgWidth - w) / 2\n",
    "    y = int(y_param * height_image)\n",
    "    \n",
    "    outlineAmount = 3\n",
    "    shadowColor = 'black'\n",
    "    #create outline text\n",
    "    for adj in range(outlineAmount):\n",
    "        #move right\n",
    "        draw.text((x-adj, y), text, font=font, fill=shadowColor)\n",
    "        #move left\n",
    "        draw.text((x+adj, y), text, font=font, fill=shadowColor)\n",
    "        #move up\n",
    "        draw.text((x, y+adj), text, font=font, fill=shadowColor)\n",
    "        #move down\n",
    "        draw.text((x, y-adj), text, font=font, fill=shadowColor)\n",
    "        #diagnal left up\n",
    "        draw.text((x-adj, y+adj), text, font=font, fill=shadowColor)\n",
    "        #diagnal right up\n",
    "        draw.text((x+adj, y+adj), text, font=font, fill=shadowColor)\n",
    "        #diagnal left down\n",
    "        draw.text((x-adj, y-adj), text, font=font, fill=shadowColor)\n",
    "        #diagnal right down\n",
    "        draw.text((x+adj, y-adj), text, font=font, fill=shadowColor)\n",
    "    \n",
    "    textColor = 'white'\n",
    "    draw.text((x, y),text,font=font,\n",
    "             fill=textColor)"
   ]
  },
  {
   "cell_type": "code",
   "execution_count": 3,
   "metadata": {},
   "outputs": [],
   "source": [
    "def write_text_on_meme_s(source_img_path, text, output_img_path):\n",
    "    from PIL import Image\n",
    "    from PIL import ImageDraw\n",
    "    from PIL import ImageFont\n",
    "    \n",
    "    \n",
    "    if ';' in text:\n",
    "        up_text, down_text = text.split(';')\n",
    "    else:\n",
    "        up_text = ''\n",
    "        down_text = text\n",
    "\n",
    "    \n",
    "    writeimg = Image.open(source_img_path)\n",
    "    newimg = Image.new(\"RGB\", writeimg.size)\n",
    "    newimg.paste(writeimg)\n",
    "    width_image = newimg.size[0]\n",
    "    height_image = newimg.size[1]\n",
    "    draw = ImageDraw.Draw(newimg)\n",
    "\n",
    "    for font_size in range(50, 0, -1):\n",
    "        font = ImageFont.truetype(\"impact.ttf\", font_size)\n",
    "        if font.getsize(up_text)[0] <= width_image:\n",
    "            break\n",
    "    else:\n",
    "        print('no fonts fit!')\n",
    "\n",
    "    imgWidth,imgHeight = writeimg.size\n",
    "    txtWidth, txtHeight = draw.textsize(text, font=font)\n",
    "\n",
    "    \n",
    "    #### DRAW_UP\n",
    "    draw_with_outline(up_text, font, draw, imgWidth, height_image, 0.05)\n",
    "    \n",
    "    for font_size in range(50, 0, -1):\n",
    "        font = ImageFont.truetype(\"impact.ttf\", font_size)\n",
    "        if font.getsize(down_text)[0] <= width_image:\n",
    "            break\n",
    "    else:\n",
    "        print('no fonts fit!')\n",
    "        \n",
    "    #### DRAW_DOWN\n",
    "    draw_with_outline(down_text, font, draw, imgWidth, height_image, 0.85)\n",
    "    \n",
    "   \n",
    "\n",
    "    newimg.save(output_img_path +\".png\")"
   ]
  },
  {
   "cell_type": "code",
   "execution_count": null,
   "metadata": {},
   "outputs": [],
   "source": []
  },
  {
   "cell_type": "code",
   "execution_count": 94,
   "metadata": {},
   "outputs": [],
   "source": [
    "#TESTS\n",
    "tests = [('gatsbi.jpg', 'gatsbi1', 'YOU WONT LOOK MY ; MIGHT'),\n",
    "         ('gatsbi.jpg', 'gatsbi2', 'TRYING TO FIND WHAT ITS COMMENTS ON MY MATH ONE IS IN BEATBOX'),\n",
    "         ('gatsbi.jpg', 'gatsbi3', 'SEE YOU BUY ADVERSARY ; GET YOU MEANT TO '),\n",
    "         ('success_kid.jpg', 'success_kid1', 'U LIKE A ; FACEBOOK SERVICE'),\n",
    "         ('success_kid.jpg', 'success_kid2', 'WHEN THE WRONG ITS MEME ; YET ENTIRE THE CASUAL FIRST SPAYED HOMEPAGE'),\n",
    "         ('first_world_problem.jpg', 'first_world_problem1', 'WHEN YOU MOM YOUR HUSBAND ; SO LIKES YOU SHARE BOYFRIEND'),\n",
    "         ('would_be_great_man.jpg', 'would_be_great_man1', 'YEAH IF YOU COULD JUST GO TO FALLS WW2 ; THAT WOULD BE GREAT'),\n",
    "         ('would_be_great_man.jpg', 'would_be_great_man2', 'IF WE COULD STOP POSTING PICS OF MISSING BURGER MEME ; THAT WOULD BE GREAT'),\n",
    "        ('wonka.jpg', 'wonka1', 'SO YOUR MAMA DRAKE YOUR BRO ; YOU POSTING HER GOLF'),\n",
    "         ('wonka.jpg', 'wonka2', 'SCOLLECTION MEDIA BOXES ; I LOVE TOWN SHIT'),\n",
    "         ('boromir.jpg', 'boromir1', 'ONE DOES NOT SIMPLY ; GET MAKER STREAK'),\n",
    "         ('boromir.jpg', 'boromir2', 'ONE DOES NOT SIMPLY EAT MY GPS'),\n",
    "         \n",
    "         ('fray.jpg', 'fray1', 'NOT SURE IF LIVED ; OR ENGLISH DOWNTIME'),\n",
    "         ('fray.jpg', 'fray2', 'I THINK ; MY ICECREAM COPIED IS THIS DEAD QUIET TO EVERYTHING MY FINGERS'),\n",
    "         ('disaster_girl.jpg', 'disastergirl1', 'THERE WAS A SPIDER IN IT CHRISTMAS ; IT ITS FIRE'),\n",
    "         ('disaster_girl.jpg', 'disastergirl2', 'THATS WHAT MY MOM ; BAD TAKING MY BENTLEY')\n",
    "        ]"
   ]
  },
  {
   "cell_type": "code",
   "execution_count": 95,
   "metadata": {},
   "outputs": [
    {
     "data": {
      "application/vnd.jupyter.widget-view+json": {
       "model_id": "cd5cf114526644dc9af6fa770fb1b1a7",
       "version_major": 2,
       "version_minor": 0
      },
      "text/plain": [
       "HBox(children=(FloatProgress(value=0.0, max=16.0), HTML(value='')))"
      ]
     },
     "metadata": {},
     "output_type": "display_data"
    },
    {
     "name": "stdout",
     "output_type": "stream",
     "text": [
      "\n"
     ]
    }
   ],
   "source": [
    "from tqdm.notebook import tqdm\n",
    "for source_img_path, output_img_path, text in tqdm(tests):\n",
    "    \n",
    "#text = 'MAN GOES ON ROAD ROAD BEATS CHRISTIANS AGAIN ; CAPTAIN THANOS'\n",
    "    source_img_path = './pics/source/' + source_img_path\n",
    "    output_img_path = './pics/generated/' + output_img_path\n",
    "\n",
    "    write_text_on_meme_s(source_img_path, text, output_img_path)"
   ]
  },
  {
   "cell_type": "code",
   "execution_count": null,
   "metadata": {},
   "outputs": [],
   "source": []
  },
  {
   "cell_type": "code",
   "execution_count": null,
   "metadata": {},
   "outputs": [],
   "source": [
    " w, h = draw.textsize(text, font=font)\n",
    "        \n",
    "    x = (imgWidth - w) / 2\n",
    "    y = int(0.1 * height_image)\n",
    "    #x = int(0.3*width_image)\n",
    "    y = int(0.7*height_image)\n",
    "    #x = imgWidth - txtWidth\n",
    "    #y = imgHeight - txtHeight\n",
    "    outlineAmount = 3\n",
    "    shadowColor = 'black'\n",
    "    #create outline text\n",
    "    for adj in range(outlineAmount):\n",
    "        #move right\n",
    "        draw.text((x-adj, y), text, font=font, fill=shadowColor)\n",
    "        #move left\n",
    "        draw.text((x+adj, y), text, font=font, fill=shadowColor)\n",
    "        #move up\n",
    "        draw.text((x, y+adj), text, font=font, fill=shadowColor)\n",
    "        #move down\n",
    "        draw.text((x, y-adj), text, font=font, fill=shadowColor)\n",
    "        #diagnal left up\n",
    "        draw.text((x-adj, y+adj), text, font=font, fill=shadowColor)\n",
    "        #diagnal right up\n",
    "        draw.text((x+adj, y+adj), text, font=font, fill=shadowColor)\n",
    "        #diagnal left down\n",
    "        draw.text((x-adj, y-adj), text, font=font, fill=shadowColor)\n",
    "        #diagnal right down\n",
    "        draw.text((x+adj, y-adj), text, font=font, fill=shadowColor)\n",
    "    \n",
    "    textColor = 'white'\n",
    "    # draw.text((x, y),\"Sample Text\",(r,g,b))\n",
    "    draw.text((x, y),text,font=font,\n",
    "             fill=textColor)\n"
   ]
  }
 ],
 "metadata": {
  "kernelspec": {
   "display_name": "Python 3",
   "language": "python",
   "name": "python3"
  },
  "language_info": {
   "codemirror_mode": {
    "name": "ipython",
    "version": 3
   },
   "file_extension": ".py",
   "mimetype": "text/x-python",
   "name": "python",
   "nbconvert_exporter": "python",
   "pygments_lexer": "ipython3",
   "version": "3.7.4"
  }
 },
 "nbformat": 4,
 "nbformat_minor": 2
}
